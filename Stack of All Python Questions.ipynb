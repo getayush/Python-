{
 "cells": [
  {
   "cell_type": "code",
   "execution_count": 8,
   "id": "a7da5f20",
   "metadata": {},
   "outputs": [
    {
     "name": "stdout",
     "output_type": "stream",
     "text": [
      "5\n"
     ]
    }
   ],
   "source": [
    "\"\"\"Problem: Uniform Integers\n",
    "\n",
    "Objective: Find the count of \"uniform integers\" between two given integers A and B, inclusive. A uniform integer is one in which all of its digits are the same (e.g., 222).\n",
    "Input: Two positive integers A and B (1 ≤ A ≤ B ≤ 10^12).\n",
    "Output: The number of uniform integers between A and B.\n",
    "Examples:\n",
    "If A = 75 and B = 300, the expected count is 5. (77, 88, 99, 111, 222) gives 5\n",
    "If A = 1 and B = 9, the expected count is 9. (1,2,3,4,5,6,7,8,9) gives 9\n",
    "If A and B are both a large uniform number (e.g., 999999999999), the expected count is 1.\n",
    "Notes: Ensure your solution is efficient enough to run within the given time constraints.\"\"\"\n",
    "\n",
    "\"\"\" def count_uniform_numbers(A, B):\n",
    "    count = 0\n",
    "    for num in range(A, B+1):  \n",
    "        num_str = str(num)\n",
    "        if all(digit == num_str[0] for digit in num_str):\n",
    "            count += 1\n",
    "    return count\n",
    "\n",
    "A = 999999999999\n",
    "B = 999999999999\n",
    "print(count_uniform_numbers(A, B)) \"\"\"\n",
    "\n",
    "def count_uniform_numbers(A, B):\n",
    "    count = 0  \n",
    "    for num in range(A, B + 1): # B+1 means B inclusive since in range(0,n) n is always excluded \n",
    "        num_str = str(num)  # Convert the number to a string\n",
    "        uniform = True  # Assume the number is uniform initially\n",
    "\n",
    "        # Loop over each digit in the string representation of the number\n",
    "        for digit in num_str:\n",
    "            if digit != num_str[0]:  # Compare each digit to the first digit\n",
    "                uniform = False  # If any digit is different, the number is not uniform\n",
    "                break  # Exit the loop early since we found a non-uniform digit\n",
    "\n",
    "        if uniform:  # If the number is uniform\n",
    "            count += 1  # Increment the counter\n",
    "\n",
    "    return count  # Return the total count of uniform numbers\n",
    "A = 75\n",
    "B = 300\n",
    "print(count_uniform_numbers(A, B))  # This should print the count of uniform numbers between 75 and 300"
   ]
  },
  {
   "cell_type": "code",
   "execution_count": null,
   "id": "95477afe",
   "metadata": {},
   "outputs": [],
   "source": [
    "\"\"\"Problem Statement:\n",
    "\n",
    "You are given a multiple-choice test with N questions, each numbered from 1 to N. \n",
    "Each question offers two possible answers: A and B. \n",
    "You have a string C where each character corresponds to the correct answer for each question. \n",
    "For a unique challenge, you decide that you want to intentionally answer every question incorrectly.\n",
    "\n",
    "Your task is to implement a function named getWrongAnswers(N, C). This function should return a new string containing N characters. Each character in the return string represents the choice you should make for each question in order to get it wrong, which will be opposite to the corresponding character in the string C.\n",
    "\n",
    "Constraints:\n",
    "\n",
    "1 ≤ N ≤ 100\n",
    "C[i] ∈ {\"A\", \"B\"}\n",
    "Example:\n",
    "\n",
    "If N is 3 and the string C is \"ABA\", \n",
    "your function should return \"BAB\" as it represents the wrong answers to the given correct answers.\"\"\"\n",
    "\n",
    "def getWrongAnswers(N,C):\n",
    "    Wrong=\"\" #Intialize an empty string to store wrong answers\n",
    "    for c in C:\n",
    "        if c=='A':\n",
    "            Wrong += 'B' #If the question's correct answer is A then it's wrong answer would be B, append it to string\n",
    "        else:\n",
    "            Wrong += 'A'#If the question's correct answer is B then it's wrong answer would be A, append it to string\n",
    "    return Wrong\n",
    "\n",
    "Y=4\n",
    "S='ABAA'\n",
    "print(getWrongAnswers(Y,S)) "
   ]
  },
  {
   "cell_type": "code",
   "execution_count": 11,
   "id": "2629055d",
   "metadata": {},
   "outputs": [
    {
     "name": "stdout",
     "output_type": "stream",
     "text": [
      "192\n",
      "192\n",
      "-172\n"
     ]
    }
   ],
   "source": [
    "#Creating a function to sum all the elements and difference of all elements\n",
    "\n",
    "x=[10,2,27,89,52,12]\n",
    "def findSum(numbers):\n",
    "    total=0\n",
    "    for num in numbers:\n",
    "        total+=num\n",
    "    return total\n",
    "\n",
    "print(findSum(x))\n",
    "print(sum(x)) # Can directly sum using sum(list)\n",
    "\n",
    "\n",
    "def findDifference(numbers):\n",
    "    diff=numbers[0] #Holding numbers[0] and subtracting rest of the numbers i.e. 10 - (2+27+89+52+12)\n",
    "    for num in numbers[1:]: #Slices and starts from 1st element i.e. [2, 27, 89, 52, 12]\n",
    "        diff-=num\n",
    "    return diff\n",
    "\n",
    "print(findDifference(x))"
   ]
  },
  {
   "cell_type": "code",
   "execution_count": 23,
   "id": "be2bdda1",
   "metadata": {},
   "outputs": [
    {
     "name": "stdout",
     "output_type": "stream",
     "text": [
      "Factorial of n numbers using recursion is  3628800\n",
      "Fibonacci of n numbers using recursion is  233\n",
      "The sum of n natural numbers using recursion is  55\n",
      "The power of a number using recursion is  65536\n",
      "The reversal of the string using recursion is  hsuyA\n",
      "The reversal of a number using recursion is  87654\n",
      "The reversal of a number and storing in a list using recursion is  [8, 7, 6, 5, 4]\n",
      "9\n",
      "10\n",
      "11\n",
      "12\n",
      "The reversal of the array using recursion is  [12, 11, 10, 9]\n",
      "The GCD between two numbers using recursion is  18\n"
     ]
    }
   ],
   "source": [
    "\"\"\"Recursion\"\"\"\n",
    "\n",
    "#Remember that in Recursion there is a call-stack formed and then recursion unwinding happens.\n",
    "\n",
    "#Write a factorial program\n",
    "def factorial(n):\n",
    "    if n in [0,1]: #Aliter : if n<=1:\n",
    "        return 1\n",
    "    else:\n",
    "        return n*factorial(n-1)\n",
    "    \n",
    "print(\"Factorial of n numbers using recursion is \",factorial(10))\n",
    "\n",
    "\n",
    "\n",
    "#Write a fibonacci program\n",
    "def fibonacci(n):\n",
    "    if n==0:\n",
    "        return 0\n",
    "    elif n==1:\n",
    "        return 1\n",
    "    else:\n",
    "        return fibonacci(n-1)+fibonacci(n-2)\n",
    "    \n",
    "print(\"Fibonacci of n numbers using recursion is \",fibonacci(13))\n",
    "\n",
    "\n",
    "\n",
    "\n",
    "#Write a program to find sum of n natural numbers\n",
    "def sumofNaturalNo(n):\n",
    "    if n<0:\n",
    "        return 0\n",
    "    else:\n",
    "        return (n+sumofNaturalNo(n-1))\n",
    "    \n",
    "print(\"The sum of n natural numbers using recursion is \",sumofNaturalNo(10))\n",
    "\n",
    "\n",
    "\n",
    "\n",
    "#Write a program to find the power of a number\n",
    "def PowerofNo(x,n):# x is base and n is exponent\n",
    "    if n==0:\n",
    "        return 1\n",
    "    if x==0:\n",
    "        return 0\n",
    "    else:\n",
    "        #The logic is to multipy x by itself that many times which the exponent is\n",
    "        return x*PowerofNo(x,n-1)\n",
    "\n",
    "print(\"The power of a number using recursion is \",PowerofNo(2,16))\n",
    "\n",
    "\n",
    "\n",
    "\n",
    "#Write a function to reverse a string using recursion\n",
    "def StringReversal_UsingRecursion(S):\n",
    "    if len(S) == 0:\n",
    "        return S\n",
    "    else:\n",
    "#The logic is to append the first character to the end of the string and recursively call function when first characters are appended\n",
    "        return StringReversal_UsingRecursion(S[1:])+S[0]\n",
    "\n",
    "String = \"Ayush\"\n",
    "print(\"The reversal of the string using recursion is \",StringReversal_UsingRecursion(String))\n",
    "\n",
    "# Works like:\n",
    "#  \"yush\"+\"A\"\n",
    "#  \"ush\"+ \"y\"\n",
    "#  \"sh\" + \"u\"\n",
    "#  \"h\" + \"s\"\n",
    "#  \"h\"    \n",
    "#Now recursive unwinding happens (LIFO principle of stack) so it gives \"hsuyA\" (Starting from backwards)\n",
    "\n",
    "\n",
    "\n",
    "\n",
    "\n",
    "#Write a function to reverse a number using recursion\n",
    "def ReverseNumber_UsingRecursion(N, rev_num):\n",
    "    if N == 0:\n",
    "        return rev_num\n",
    "    else:\n",
    "        M = N % 10\n",
    "        rev_num=rev_num*10 + M\n",
    "        N=N//10\n",
    "        return ReverseNumber_UsingRecursion(N, rev_num)\n",
    "Number=45678\n",
    "rev_num=0\n",
    "print(\"The reversal of a number using recursion is \",ReverseNumber_UsingRecursion(Number, rev_num))\n",
    "\n",
    "\n",
    "\n",
    "\n",
    "\n",
    "#Write a function to reverse a number using recursion and store it in a list\n",
    "def ReverseNumber_UsingRecursion_Store_inAList(num):\n",
    "    # Base case: if num is 0, return an empty list\n",
    "    if num == 0:\n",
    "        return []\n",
    "    else:\n",
    "        # Get the last digit\n",
    "        x = num % 10\n",
    "        # Recursively call Reverse with the remaining digits\n",
    "        return [x] + ReverseNumber_UsingRecursion_Store_inAList(num // 10)\n",
    "\n",
    "Number = 45678\n",
    "print(\"The reversal of a number and storing in a list using recursion is \",ReverseNumber_UsingRecursion_Store_inAList(Number))\n",
    "\n",
    "\n",
    "\n",
    "#Print the Elements of an Array: Write a recursive function to print all the elements of an array.\n",
    "def ReversalArray_UsingRecursion_LinebyLine(arr):\n",
    "    if len(arr)==0:\n",
    "        return arr\n",
    "    else:\n",
    "        print(arr[0])\n",
    "        Rec_Array(arr[1:])\n",
    "\n",
    "A=[9,10,11,12]\n",
    "ReversalArray_UsingRecursion_LinebyLine(A)\n",
    "\n",
    "\n",
    "\n",
    "\n",
    "\n",
    "#Print the Elements of an Array: Write a recursive function to print reverse elements recursively.\n",
    "def ReverseArray_UsingRecursion(arr):\n",
    "    n=len(arr)\n",
    "    if n==0:\n",
    "        return arr\n",
    "    else:\n",
    "        return ReverseArray_UsingRecursion(arr[1:])+[arr[0]]\n",
    "A=[9,10,11,12]\n",
    "print(\"The reversal of the array using recursion is \",ReverseArray_UsingRecursion(A))\n",
    "\n",
    "\n",
    "\n",
    "\n",
    "\n",
    "#Print a program to find GCD between two numbers using recursion\n",
    "def GCD_Recursion(a,b):\n",
    "    if b==0:\n",
    "        return a\n",
    "    else:\n",
    "        return GCD_Recursion(b, a%b) #Euclidean maths here...\n",
    "    \n",
    "print(\"The GCD between two numbers using recursion is \",GCD_Recursion(0,18))"
   ]
  },
  {
   "cell_type": "code",
   "execution_count": null,
   "id": "9377aadc",
   "metadata": {},
   "outputs": [],
   "source": [
    "def StringReverse(S):\n",
    "    return S[::-1]\n",
    "\n",
    "String=\"Birmingham\"\n",
    "print(StringReverse(String))"
   ]
  },
  {
   "cell_type": "code",
   "execution_count": null,
   "id": "d161f7af",
   "metadata": {},
   "outputs": [],
   "source": [
    "# Create a Python program that replaces every occurrence of a substring in a string with another substring.\n",
    "def Replace():\n",
    "    string=input(\"Enter the string : \")\n",
    "    sub_string=input(\"Enter the string you want to find : \")\n",
    "    new_string=input(\"Enter the string you want to replace with: \")\n",
    "    if sub_string in string:\n",
    "        string=string.replace(sub_string, new_string)\n",
    "    return string\n",
    "\n",
    "R=Replace()\n",
    "print(R)"
   ]
  },
  {
   "cell_type": "code",
   "execution_count": null,
   "id": "1607f13a",
   "metadata": {},
   "outputs": [],
   "source": [
    "#Write a Python function that uses a stack (implemented with a list) to reverse a string.    \n",
    "def reverse_string(s):\n",
    "    stack = []\n",
    "    for c in s:\n",
    "        stack.append(c)  \n",
    "    stack.reverse()  \n",
    "    reversed_string = ''.join(stack)\n",
    "    return reversed_string\n",
    "\n",
    "String=\"ABC\"\n",
    "print(reverse_string(String))"
   ]
  },
  {
   "cell_type": "code",
   "execution_count": null,
   "id": "a399b6a2",
   "metadata": {},
   "outputs": [],
   "source": [
    "#Write a Python function that takes a list of numbers and returns a list of their squares.\n",
    "def SquareList(arr):\n",
    "    sq=[int(a)**2 for a in arr]\n",
    "    return sq\n",
    "\n",
    "l=[2,5,10]\n",
    "print(SquareList(l))"
   ]
  },
  {
   "cell_type": "code",
   "execution_count": null,
   "id": "f0d00106",
   "metadata": {},
   "outputs": [],
   "source": [
    "#Write a Python program to take variable number of arguments and print them\n",
    "def Variable(*k):\n",
    "    for x in k:\n",
    "        print(x)\n",
    "\n",
    "Variable(1,2,3,5,'a','b',23)  "
   ]
  },
  {
   "cell_type": "code",
   "execution_count": 13,
   "id": "97857506",
   "metadata": {},
   "outputs": [
    {
     "name": "stdout",
     "output_type": "stream",
     "text": [
      "[120, 60, 40, 30, 24]\n"
     ]
    }
   ],
   "source": [
    "\"\"\"Given an array of integers, you are required to write a function findSpecialProduct that calculates a \"special product\" for each element in the array. The \"special product\" of an element is defined as the product of all the numbers in the array except the number itself.\n",
    "\n",
    "Your function should take an array of integers as an input and return a new array of the same size, where each element corresponds to the \"special product\" as per the above definition.\n",
    "\n",
    "Example:\n",
    "\n",
    "Input array: [1, 2, 3, 4, 5]\n",
    "\n",
    "Output array: [120, 60, 40, 30, 24]\n",
    "\n",
    "In the output, each element is the product of all the other elements. For example, the first element of the output array is the product of 2, 3, 4, 5 which equals 120.\n",
    "\n",
    "Constraints:\n",
    "\n",
    "The input array will contain at least two integers.\n",
    "The function should handle large arrays efficiently.\n",
    "The product of any subset of the array will not exceed the range of 32-bit signed integer.\n",
    "\n",
    "For example,\n",
    "For the first element (index 0), the product is 2 * 3 * 4 * 5.\n",
    "For the second element (index 1), the product is 1 * 3 * 4 * 5.\n",
    "And so on for the rest of the elements.\"\"\"\n",
    "\n",
    "def findSpecialProduct(arr):\n",
    "    length = len(arr)\n",
    "    output = []\n",
    "\n",
    "    for i in range(length):\n",
    "        product = 1\n",
    "        for j in range(length):\n",
    "            if i != j:\n",
    "                product *= arr[j] \n",
    "        output.append(product)  \n",
    "\n",
    "    return output\n",
    "\n",
    "numbers = [1, 2, 3, 4, 5]\n",
    "output = findSpecialProduct(numbers)\n",
    "print(output)"
   ]
  },
  {
   "cell_type": "code",
   "execution_count": null,
   "id": "ce2d65cb",
   "metadata": {},
   "outputs": [],
   "source": [
    "\"\"\" Problem Statement: Peaks in a List\n",
    "\n",
    "Write a function find_peaks that takes a list of integers as input and returns a new list containing all the elements that are greater than every element that follows them in the input list.\n",
    "\n",
    "For each element in the list, you must check whether it is larger than all the subsequent elements. If it is, consider it a \"peak\" and add it to the result list. The last element is always considered a peak since there are no elements after it.\n",
    "\n",
    "Example:\n",
    "\n",
    "Input: [10, 25, 40, 67, 93, 55, 10]\n",
    "\n",
    "Output: [93, 55, 10]\n",
    "\n",
    "The output list [93, 55, 10] includes 93 because there are no greater elements after it, 55 because even though there is a greater element (93) before it, there is no greater element after it, and 10 because it is the last element.\"\"\"\n",
    "\n",
    "\n",
    "from typing import List\n",
    "\n",
    "def find_peaks(nums: List[int]) -> List[int]:\n",
    "    new = []\n",
    "    x = len(nums)  # Determine the length of the input list\n",
    "\n",
    "    for i in range(x):\n",
    "        is_greater = True  # Assume the current element is greater than all following elements\n",
    "        for j in range(i+1, x):\n",
    "            if nums[i] <= nums[j]:\n",
    "                # If we find any element greater than or equal to nums[i], it's not greater than all\n",
    "                is_greater = False\n",
    "                break  # No need to check further; exit the inner loop\n",
    "        if is_greater:\n",
    "            new.append(nums[i])  # Append the element to the new list if it's greater than all following elements\n",
    "\n",
    "    return new\n",
    "\n",
    "peaks = find_peaks([10, 25, 40, 67, 93, 55, 10])  \n",
    "print(peaks)  "
   ]
  },
  {
   "cell_type": "code",
   "execution_count": 25,
   "id": "cd7fbc93",
   "metadata": {},
   "outputs": [
    {
     "name": "stdout",
     "output_type": "stream",
     "text": [
      "(6, 6, -4, 0.16666666666666666)\n"
     ]
    }
   ],
   "source": [
    "#Write a program that does addition, subtraction, multiplication and division with digits of the number.\n",
    "# If number = 123 then 1+2+3, 1-2-3, 1*2*3, (1/2)/3\n",
    "\n",
    "def Digits(number):\n",
    "    string=str(number)\n",
    "    l=[int(s) for s in string]\n",
    "    product=l[0]\n",
    "    sum=l[0]\n",
    "    subtraction=l[0]\n",
    "    division=l[0]\n",
    "    for i in range(1,len(l)):\n",
    "        product*=l[i]\n",
    "        sum+=l[i]\n",
    "        subtraction-=l[i]\n",
    "        try:\n",
    "            if l[i]==0:\n",
    "                raise ZeroDivisionError\n",
    "            else:\n",
    "                division/=l[i]\n",
    "                \n",
    "        except ZeroDivisionError:\n",
    "            division=\"Division by 0 not possible\"\n",
    "            break\n",
    "            \n",
    "    return product, sum, subtraction, division\n",
    "A=123\n",
    "print(Digits(A))"
   ]
  },
  {
   "cell_type": "code",
   "execution_count": null,
   "id": "0d665791",
   "metadata": {},
   "outputs": [],
   "source": [
    "#Write a Palindrome function\n",
    "def Palindrome(integer):\n",
    "    if isinstance(integer, int):\n",
    "        string = str(integer)\n",
    "        l = []\n",
    "        for s in string:\n",
    "            l.append(s)\n",
    "        l.reverse()\n",
    "        reversed_string = ''.join(l)\n",
    "        reversed_integer = int(reversed_string)\n",
    "        \n",
    "        if reversed_integer == integer:\n",
    "            return f\"The given number is palindrome and it is {reversed_integer}\"\n",
    "        else:\n",
    "            return \"Not a Palindrome\"\n",
    "    else:\n",
    "        return \"It's a string entry\"\n",
    "\n",
    "A = 121\n",
    "print(Palindrome(A))"
   ]
  },
  {
   "cell_type": "code",
   "execution_count": 26,
   "id": "7a4feda3",
   "metadata": {},
   "outputs": [
    {
     "name": "stdout",
     "output_type": "stream",
     "text": [
      "162543\n"
     ]
    }
   ],
   "source": [
    "#Write a function to reverse integer\n",
    "def Reversing_Integer(number):\n",
    "    string=str(number) #You can't directly convert an integer like 345 to a list [3,4,5], you need to convert it first to string    \n",
    "    l=[] #Take an empty list where you will append the digits of the number\n",
    "    for s in string: #String traversal to append each digit as list item in below list\n",
    "        l.append(s) # Appending individual digits of converted number '345' to a list like ['3','4',5]\n",
    "    l.reverse() # Reverse the list now -> ['5','4','3'] NOTICE THAT THIS IS LIST OF STRINGS NOT INTEGERS as it's ['5','4','3'] not [5,4,3]\n",
    "    reverse=''.join(l) # Join the elements of list to a string called reverse \n",
    "    return int(reverse) # Convert the string back to integer\n",
    "A=345261\n",
    "print(Reversing_Integer(A))"
   ]
  },
  {
   "cell_type": "code",
   "execution_count": null,
   "id": "d9686e98",
   "metadata": {},
   "outputs": [],
   "source": [
    "#Working of for i in range(len(list)) and for x in list:\n",
    "\n",
    "l=[1,2,3,4,5]\n",
    "\n",
    "arr=[]\n",
    "for i in range(len(l)):\n",
    "    arr.append(l[i])\n",
    "print(arr)\n",
    "\n",
    "trial=[]\n",
    "for tx in l:\n",
    "    trial.append(tx)\n",
    "print(trial)"
   ]
  },
  {
   "cell_type": "code",
   "execution_count": 27,
   "id": "63f703c2",
   "metadata": {},
   "outputs": [
    {
     "name": "stdout",
     "output_type": "stream",
     "text": [
      "['H', 'e', 'l', 'l', 'o', 'A', 'y', 'u', 's', 'h']\n"
     ]
    }
   ],
   "source": [
    "#Function to append characters of a string to elements of a list\n",
    "x=\"Hello Ayush\"\n",
    "arrey=[]\n",
    "for y in x:\n",
    "    if y != ' ':\n",
    "        arrey.append(y)\n",
    "print(arrey)"
   ]
  },
  {
   "cell_type": "code",
   "execution_count": 30,
   "id": "e8ec4b25",
   "metadata": {},
   "outputs": [
    {
     "name": "stdout",
     "output_type": "stream",
     "text": [
      "hello ayush\n"
     ]
    }
   ],
   "source": [
    "List_ofString=[\"Hello Ayush\"]\n",
    "List_ofCharacter=['H', 'e', 'l', 'l', 'o', 'A', 'y', 'u', 's', 'h']\n",
    "List_ofNumbers=[10,9,8,7,6]\n",
    "Lower=lambda x:x.lower()\n",
    "#Integer=lambda x:x%10 #Won't work\n",
    "print(Lower(x))\n",
    "#print(Integer(List_ofNumbers))"
   ]
  },
  {
   "cell_type": "code",
   "execution_count": 31,
   "id": "fb0ddce4",
   "metadata": {},
   "outputs": [
    {
     "name": "stdout",
     "output_type": "stream",
     "text": [
      "[('Berlin', 84.2), ('Cairo', 96.8), ('Buenos Aires', 66.2), ('Los Angeles', 78.80000000000001), ('Tokyo', 80.6), ('New York', 82.4), ('London', 71.6), ('Beijing', 89.6)]\n",
      "['Argentina', 'Brazil', 'Chile', 'Colombia', 'Ecuador', 'Venezuela']\n"
     ]
    }
   ],
   "source": [
    "#Working of map,reduce and filters\n",
    "\n",
    "# Define the list of tuples with city names and temperatures in Celsius\n",
    "temps = [(\"Berlin\", 29), (\"Cairo\", 36), (\"Buenos Aires\", 19),\n",
    "         (\"Los Angeles\", 26), (\"Tokyo\", 27), (\"New York\", 28),\n",
    "         (\"London\", 22), (\"Beijing\", 32)]\n",
    "\n",
    "# Define the lambda function to convert Celsius to Fahrenheit\n",
    "c_to_f = lambda data: (data[0], (9/5)*data[1] + 32)\n",
    "\n",
    "# Use map to apply the conversion to each tuple in the list\n",
    "converted_temps = list(map(c_to_f, temps))\n",
    "\n",
    "print(converted_temps)\n",
    "\n",
    "\n",
    "\n",
    "# Define the list with country names and some empty strings representing missing data\n",
    "countries = [\"\", \"Argentina\", \"\", \"Brazil\", \"Chile\", \"\", \"Colombia\", \"\", \"Ecuador\", \"\", \"\", \"Venezuela\"]\n",
    "\n",
    "# Use filter to remove the empty strings (filter out falsey values)\n",
    "filtered_countries = list(filter(None, countries))\n",
    "\n",
    "print(filtered_countries)"
   ]
  },
  {
   "cell_type": "code",
   "execution_count": null,
   "id": "0679eb2b",
   "metadata": {},
   "outputs": [],
   "source": [
    "#Search in a Rotated Sorted Array:\n",
    "\n",
    "class Solution:\n",
    "    def search(self, nums: List[int], target: int) -> int:\n",
    "        #My code starts from below\n",
    "        n=len(nums)\n",
    "        low=0\n",
    "        high=n-1\n",
    "\n",
    "        while low<=high:\n",
    "            mid = (low+high)//2\n",
    "            if nums[mid] == target:\n",
    "                return mid\n",
    "            \n",
    "            if nums[low] <= nums[high]:\n",
    "                if nums[low]<=target<=nums[high]:\n",
    "                    high = mid - 1\n",
    "                else:\n",
    "                    low = mid + 1\n",
    "            \n",
    "            else:\n",
    "                if nums[mid] <= target <= nums[high]:\n",
    "                    low = mid + 1\n",
    "                else:\n",
    "                    high = mid - 1\n",
    "        return -1"
   ]
  },
  {
   "cell_type": "code",
   "execution_count": 32,
   "id": "d9e5ae9f",
   "metadata": {},
   "outputs": [
    {
     "data": {
      "text/plain": [
       "[1, 3, 5]"
      ]
     },
     "execution_count": 32,
     "metadata": {},
     "output_type": "execute_result"
    }
   ],
   "source": [
    "#Write a function to return all the index of an element\n",
    "def ReturnAllIndex(arr, x):\n",
    "    l=[]\n",
    "    for i in range(len(arr)):\n",
    "        if x == arr[i]:\n",
    "            l.append(i)\n",
    "    return l\n",
    "\n",
    "arr=[10,20,40,20,50,20,90,100]\n",
    "x=20\n",
    "ReturnAllIndex(arr,x)  # Returns [1,3,5] as 20 is present at three indexes"
   ]
  },
  {
   "cell_type": "code",
   "execution_count": 3,
   "id": "258291a8",
   "metadata": {},
   "outputs": [
    {
     "name": "stdout",
     "output_type": "stream",
     "text": [
      "Even Count is  3\n",
      "Odd Count is  4\n"
     ]
    }
   ],
   "source": [
    "\"\"\" Write a function that prints number of even and odd numbers in a list of numbers\"\"\"\n",
    "\n",
    "def Count(A):\n",
    "    if len(A) == 0:\n",
    "        return (0,0)\n",
    "    else:\n",
    "        countEven=0\n",
    "        countOdd=0\n",
    "        for x in A:\n",
    "            if x%2 == 0:\n",
    "                countEven+=1\n",
    "            else:\n",
    "                countOdd+=1\n",
    "        return (countEven, countOdd)\n",
    "\n",
    "A=[1,2,3,4,5,6,7]\n",
    "Even_Count, Odd_Count = Count(A)\n",
    "print(\"Even Count is \", Even_Count)\n",
    "print(\"Odd Count is \", Odd_Count)"
   ]
  },
  {
   "cell_type": "code",
   "execution_count": 4,
   "id": "b26d3676",
   "metadata": {},
   "outputs": [
    {
     "name": "stdout",
     "output_type": "stream",
     "text": [
      "4\n",
      "2\n",
      "1\n",
      "4\n",
      "0\n"
     ]
    }
   ],
   "source": [
    "\"\"\" Given a sorted array of distinct integers and a target value, return the index if the target is found. If not, return the index where it would be if it were inserted in order.\n",
    "\n",
    "You must write an algorithm with O(log n) runtime complexity.\n",
    "\n",
    "Example 1:\n",
    "\n",
    "Input: nums = [1,3,5,6], target = 5\n",
    "Output: 2\n",
    "Example 2:\n",
    "\n",
    "Input: nums = [1,3,5,6], target = 2\n",
    "Output: 1\n",
    "Example 3:\n",
    "\n",
    "Input: nums = [1,3,5,6], target = 7\n",
    "Output: 4 \"\"\"\n",
    "\n",
    "def Search(nums, target): #This is O(n) and not O(log n)\n",
    "    n=len(nums)\n",
    "    for i in range(n):\n",
    "        if nums[i] >= target:\n",
    "            return i\n",
    "    return n\n",
    "\n",
    "A=[1,5,6,7,9]\n",
    "Target = 8\n",
    "print(Search(A,Target)) \n",
    "\n",
    "\"\"\" Explanation:\n",
    "Iterate through the list: For each element, check if it is greater than or equal to the target.\n",
    "Return index: If an element is found that is greater than or equal to the target, return the current index. This is where the target should be inserted.\n",
    "End of list: If no such element is found, return the length of the list, which means the target should be inserted at the end.\n",
    "Example Walkthrough:\n",
    "For nums = [1, 3, 5, 6] and target = 2:\n",
    "\n",
    "Check 1 (not >= 2)\n",
    "Check 3 (>= 2), return index 1\n",
    "For nums = [1, 3, 5, 6] and target = 7:\n",
    "\n",
    "Check 1 (not >= 7)\n",
    "Check 3 (not >= 7)\n",
    "Check 5 (not >= 7)\n",
    "Check 6 (not >= 7)\n",
    "No elements >= 7, return 4 (length of nums) \"\"\"\n",
    "\n",
    "\n",
    "\n",
    "#For O(log n) we need to use Binary Search\n",
    "class Solution:\n",
    "    def searchInsert(self, nums, target):\n",
    "        left, right = 0, len(nums) - 1\n",
    "        \n",
    "        while left <= right:\n",
    "            mid = (left + right) // 2\n",
    "            \n",
    "            if nums[mid] == target:\n",
    "                return mid\n",
    "            elif nums[mid] < target:\n",
    "                left = mid + 1\n",
    "            else:\n",
    "                right = mid - 1\n",
    "                \n",
    "        return left\n",
    "\n",
    "solution = Solution()\n",
    "print(solution.searchInsert([1, 3, 5, 6], 5))  # Output: 2\n",
    "print(solution.searchInsert([1, 3, 5, 6], 2))  # Output: 1\n",
    "print(solution.searchInsert([1, 3, 5, 6], 7))  # Output: 4\n",
    "print(solution.searchInsert([1, 3, 5, 6], 0))  # Output: 0"
   ]
  },
  {
   "cell_type": "code",
   "execution_count": 15,
   "id": "0a2cbcef",
   "metadata": {},
   "outputs": [
    {
     "name": "stdout",
     "output_type": "stream",
     "text": [
      "[2, 4, 5, 10, 11, 27]\n"
     ]
    }
   ],
   "source": [
    "#Sort a list without using built-in functions\n",
    "def SortList(A):\n",
    "    n=len(A)\n",
    "    for i in range(n):\n",
    "        for j in range(i, n):\n",
    "            if A[i]>A[j]:\n",
    "                A[i], A[j] = A[j], A[i]\n",
    "    return A\n",
    "\n",
    "x=[4,5,2,10,27,11]\n",
    "print(SortList(x))"
   ]
  },
  {
   "cell_type": "code",
   "execution_count": 13,
   "id": "62f7315f",
   "metadata": {},
   "outputs": [
    {
     "name": "stdout",
     "output_type": "stream",
     "text": [
      "Username: ayushterrain, Domain: domain.com\n"
     ]
    }
   ],
   "source": [
    "def delimit_email(email):\n",
    "    # Split the email address at the '@' character\n",
    "    parts = email.split('@')\n",
    "    \n",
    "    if len(parts) == 2:\n",
    "        username, domain = parts\n",
    "        return username, domain\n",
    "    else:\n",
    "        raise ValueError(\"Invalid email address\")\n",
    "\n",
    "# Example usage\n",
    "email = \"ayushterrain@domain.com\"\n",
    "username, domain = delimit_email(email)\n",
    "print(f\"Username: {username}, Domain: {domain}\")"
   ]
  },
  {
   "cell_type": "code",
   "execution_count": 16,
   "id": "9cde4ac8",
   "metadata": {},
   "outputs": [
    {
     "data": {
      "text/plain": [
       "0"
      ]
     },
     "execution_count": 16,
     "metadata": {},
     "output_type": "execute_result"
    }
   ],
   "source": [
    "1//2"
   ]
  },
  {
   "cell_type": "code",
   "execution_count": 17,
   "id": "2edbd1c6",
   "metadata": {},
   "outputs": [
    {
     "name": "stdout",
     "output_type": "stream",
     "text": [
      "11\n",
      "4\n",
      "1\n"
     ]
    }
   ],
   "source": [
    "x = int(input())\n",
    "y = int(input())\n",
    "\n",
    "x = x % y\n",
    "x = x % y\n",
    "y = y % x\n",
    "\n",
    "print(y)"
   ]
  },
  {
   "cell_type": "code",
   "execution_count": 20,
   "id": "8a85abe5",
   "metadata": {},
   "outputs": [
    {
     "name": "stdout",
     "output_type": "stream",
     "text": [
      "3\n",
      "6\n",
      "333333\n"
     ]
    }
   ],
   "source": [
    "x = input()\n",
    "y = int(input())\n",
    "\n",
    "print(x * y)"
   ]
  },
  {
   "cell_type": "code",
   "execution_count": null,
   "id": "e33ae8c4",
   "metadata": {},
   "outputs": [],
   "source": [
    "result = 10 % 3\n",
    "print(result)  # Output: 1 (10 divided by 3 is 3 with a remainder of 1)\n",
    "\n",
    "result = 20 % 4\n",
    "print(result)  # Output: 0 (20 divided by 4 is 5 with no remainder)\n",
    "\n",
    "result = 1 % 1000\n",
    "print(result)\n",
    "\n",
    "result = 10.5 % 3\n",
    "print(result)  # Output: 1.5 (10.5 divided by 3 is 3 with a remainder of 1.5)\n",
    "\n",
    "result = 7.5 % 2.5\n",
    "print(result)  # Output: 0.0 (7.5 divided by 2.5 is 3 with no remainder)"
   ]
  },
  {
   "cell_type": "code",
   "execution_count": 2,
   "id": "b3449d70",
   "metadata": {},
   "outputs": [
    {
     "name": "stdout",
     "output_type": "stream",
     "text": [
      "17.0\n"
     ]
    }
   ],
   "source": [
    "y = 2 + 3 * 5.\n",
    "print(y)"
   ]
  },
  {
   "cell_type": "code",
   "execution_count": 17,
   "id": "70ac2768",
   "metadata": {},
   "outputs": [
    {
     "name": "stdout",
     "output_type": "stream",
     "text": [
      "74\n"
     ]
    }
   ],
   "source": [
    "\"\"\" Reduce The Array, Given an Array reduce the array to a single element. In each operation pick two indices i and j where\n",
    "i is not equal to j and\n",
    "\n",
    " append the value of a[i] + a[j]. Find minimum possible cost to reduce the array.\n",
    " delete a[i] and a[j] from the array\n",
    "\n",
    " The cost of each operation is a[i] + a[j]. Find minimum possible cost to reduce the array.\n",
    "\n",
    "The input should contain size of array,\n",
    "Consider array [25, 10, 20]\n",
    "Pick 10 and 20 cost = 10 + 20 = 30 array = [25,30]\n",
    "Pick 25 and 30 cost = 25 + 30 = 55 array = [55]\n",
    "\n",
    "Assume n = 3 and elements as [30, 10, 20] then \n",
    "Pick 10 and 20 cost = 10 + 20 = 30 array becomes [30, 30]\n",
    "Pick 30 and 30 cost = 30 + 30 = 60 array becomes [60]\n",
    "\"\"\"\n",
    "\n",
    "def minimizeCost(A):\n",
    "    TotalCost = 0\n",
    "    while len(A) > 1:\n",
    "        A.sort()\n",
    "        firstMinimumElement = A.pop(0)\n",
    "        secondMinimumElement = A.pop(0)\n",
    "        cost = firstMinimumElement + secondMinimumElement\n",
    "        TotalCost += cost\n",
    "        A.append(cost)\n",
    "    return A[0]\n",
    "arr = [35,10,29]\n",
    "print(minimizeCost(arr))"
   ]
  },
  {
   "cell_type": "code",
   "execution_count": 39,
   "id": "d0d8a6cc",
   "metadata": {},
   "outputs": [
    {
     "name": "stdout",
     "output_type": "stream",
     "text": [
      "3\n",
      "4\n",
      "6\n",
      "7\n"
     ]
    }
   ],
   "source": [
    "\"\"\" There are n participants numbered 1 to n where the ith participants has a potential denoted by potential[i].\n",
    "The potential of each player is distinct. Initially, all the players stand in a queue in order from the ith to the nth\n",
    "player in each game, the first two participants of the queue compete and the participant with higher potential wins the\n",
    "game. After each game, the winner remains at the begining of the queue and plays with the next person from the queue and the\n",
    "losing players goes to the end of the queue. The games continues untill a player wins k consecutive games\n",
    "\n",
    "Given the potential of participants and the deciding factor k, find the potential of the winning player.\n",
    "Example consider n=4 participants have potential = [3,2,1,4] and k=2\n",
    "Initial position of the participants is [1,2,3,4] Participants 1 and 2 compete and their potential is 3 and 2 respectively\n",
    "Player 1 wins due to high potential and player 2 moves at the back now their position is [1,3,4,2]\n",
    "\n",
    "Participant 1 and 3 compete and their potential is 3 and 1 respectively so Player 1 again wins. Since k=2 it means Player 1\n",
    "has won through consecutive games\n",
    "\n",
    "getPotentialOfWinner has following parameters \n",
    "int potential[n] the potential of participants\n",
    "long int k; the no of consecutive matches the winnning participants must win\n",
    "\n",
    "Returns \n",
    "int: the potential of the wining player\n",
    "\n",
    "The first line contains an integer n the number of the elements in potential. Each line i of the n subsequent lines (where\n",
    "0<= i <= n) contains an integer, potential[i]. The next line contains k\n",
    "\n",
    "Example: n=5 \n",
    "         potential = [1,3,2,4,5]\n",
    "         k=2\n",
    "         Output = 3\n",
    "         \n",
    "Example: n=4\n",
    "         potential = [3,2,1,4] \n",
    "         k=3\n",
    "         Output = 4 \n",
    "Explaination: Player 1 potential 3 compared with Player 2 potential i.e. 2 and 3>2 so 2 is moved back [3,1,4,2]\n",
    "At k=2 Player 1 potential is 3 compared with Player 3 potential i.e. 1 and we compare 3>1 so 1 is moved back [3,4,2,1]\n",
    "At k=3 Player 1 potential is 3 compared with Player 4 potential i.e. 4 and we compare 3<4 so 3 is moved back [4,2,1,3]\n",
    "We return 4\"\"\"\n",
    "\n",
    "\n",
    "def getPotentialOfWinner(potential, k):\n",
    "    n = len(potential)\n",
    "    winner_potential = potential[0]\n",
    "    winner_index = 0\n",
    "    consecutive_wins = 0\n",
    "\n",
    "    for i in range(1, n):\n",
    "        if potential[i] > potential[winner_index]:\n",
    "            winner_potential = potential[i]\n",
    "            winner_index = i\n",
    "            consecutive_wins = 1\n",
    "        elif potential[i] < potential[winner_index]:\n",
    "            consecutive_wins += 1\n",
    "        else:\n",
    "            consecutive_wins = 0\n",
    "\n",
    "        if consecutive_wins >= k:\n",
    "            break\n",
    "\n",
    "    return winner_potential\n",
    "\n",
    "# Example usage\n",
    "potential = [1, 3, 2, 4, 5]\n",
    "k = 2\n",
    "print(getPotentialOfWinner(potential, k))  # Output: 3\n",
    "\n",
    "potential = [3, 2, 1, 4]\n",
    "k = 3\n",
    "print(getPotentialOfWinner(potential, k))  # Output: 4  \n",
    "\n",
    "potential = [6, 2, 1, 3, 5]\n",
    "k = 2\n",
    "print(getPotentialOfWinner(potential, k)) # Output: 6\n",
    "\n",
    "potential = [4, 2, 1, 5, 6, 3, 7]\n",
    "k = 3\n",
    "print(getPotentialOfWinner(potential, k)) # Output: 7"
   ]
  },
  {
   "cell_type": "code",
   "execution_count": 80,
   "id": "8829e7a4",
   "metadata": {},
   "outputs": [
    {
     "name": "stdout",
     "output_type": "stream",
     "text": [
      "9758601\n",
      "8662003\n"
     ]
    }
   ],
   "source": [
    "\"\"\" Swap Parity: Given a number nums and it can be swapped only if parity is sam, i.e. if both numbers are odd then \n",
    "it can be swapped if both are even it can be swapped for example {7,9} can be swapped to {9,7} and {6,8} can be\n",
    "swapped to {8,6} but can't swap {6,9} \n",
    "\n",
    "Find the largest number when swapping in getLargestNumber(nums) \n",
    "For example 7596801\n",
    "Swap 5 & 9 we get 7956801\n",
    "Swap 7 & 9 we get 9756801\n",
    "Swap 6 & 8 we get 9758601 thus largest number is 9758601\n",
    "\n",
    "For example '0082663'\n",
    "The output should be 8662003 since zeroes are even parity and can be swapped until the digits are placed as shown\"\"\"\n",
    "\n",
    "def getLargestNumber(nums): #If nums = 7956801\n",
    "    digits = list(map(int, str(nums))) # ['7','9','5','6','8','0','1']\n",
    "    n = len(digits)\n",
    "\n",
    "    # Separate even and odd digits and reverse=True so that decreasing sorted list\n",
    "    even_digits = sorted([digit for digit in digits if digit % 2 == 0], reverse=True) #['8','6','0']\n",
    "    odd_digits = sorted([digit for digit in digits if digit % 2 != 0], reverse=True) #['9','7','5','1']\n",
    "\n",
    "    # Reconstruct the list of digits\n",
    "    result = []\n",
    "    even_index = 0 #This will help us in keep track of position in even_digits\n",
    "    odd_index = 0 #This will help us in keep track of position in odd_digits\n",
    "    for i in range(n):\n",
    "        if digits[i] % 2 == 0:\n",
    "            result.append(even_digits[even_index]) #If divisble by then we take result.append(even_digits[0]) \n",
    "            even_index += 1 #Increment even_index once found\n",
    "        else:\n",
    "            result.append(odd_digits[odd_index]) #If not divisble by then we take result.append(odd_digits[0]) \n",
    "            odd_index += 1 #Increment odd_index once found\n",
    "\n",
    "    # Convert the list of digits back to an integer\n",
    "    largest_num = int(''.join(map(str, result)))\n",
    "    return largest_num\n",
    "\n",
    "print(getLargestNumber(7596801))  # Output: 9758610\n",
    "print(getLargestNumber('0082663'))  # Output: 8662003 \n",
    "\n",
    "#Let's say 7956801 then digits = ['7','9','5','6','8','0','1']\n",
    "#even_digits become [8,6,0] and odd_digits become [9,7,5,1]\n",
    "#even_index = 0 (This is the index position for even_digits so \n",
    "#even_digits[even_index] will be even_digit[0] = 8 which is the first element in even_digits\n",
    "#Similarly, for odd_index = 0 (This is the index position for odd_digits so \n",
    "#odd_digits[odd_index] will be odd_digit[0] = 9 which is the first element in odd_digits\n",
    "#We iterate using for loop for our list called digits\n",
    "#We check if each digit is divisible by 2 or not (even) if it is even, \n",
    "#then even_digits[even_index] means in even_digits list the 0th element i.e. 8\n",
    "#If not then odd_digits[odd_index] means in odd_digits list the 0th element i.e. 9\n",
    "#Since iterating over list called digits = ['7','5','9','6','8','0','1'] we found 7\n",
    "#So first digit 7 is not even then we append in result odd_digits[odd_index]; odd_digits[0] = 9\n",
    "#Also odd_index will be incremented to 1\n",
    "#Next digit 9 is not even then we append in result odd_digits[odd_index]; odd_digits[1]=7\n",
    "#Increment odd_index to 2\n",
    "#Next digit 5 is not even then we append in result odd_digits[odd_index]; odd_digits[2]=5\n",
    "#Increment odd_index to 3\n",
    "#6 is even then we append in result even_digits[even_index]; even_digits[0] = 8\n",
    "#Increment even_index to 1\n",
    "#8 is even then we append in result even_digits[even_index]; even_digits[1] = 6\n",
    "#Increment even_index to 2\n",
    "#0 is even then we append in result even_digits[even_index]; even_digits[2] = 0\n",
    "#Increment even_index to 3\n",
    "#1 is odd then we append in result odd_digits[odd_index]; odd_digits[3] = 1           "
   ]
  },
  {
   "cell_type": "code",
   "execution_count": 79,
   "id": "84eeb184",
   "metadata": {},
   "outputs": [
    {
     "name": "stdout",
     "output_type": "stream",
     "text": [
      "([8, 6, 0], [9, 7, 5, 1])\n"
     ]
    }
   ],
   "source": [
    "def ListofDigits(nums):\n",
    "    digits = list(map(int, str(nums)))\n",
    "    n=len(digits)\n",
    "    \n",
    "    even_digits = sorted([digit for digit in digits if digit % 2 == 0], reverse=True)\n",
    "    odd_digits = sorted([digit for digit in digits if digit % 2 != 0], reverse=True)\n",
    "    \n",
    "    return(even_digits, odd_digits)\n",
    "\n",
    "N = 7596801\n",
    "print(ListofDigits(N))"
   ]
  },
  {
   "cell_type": "code",
   "execution_count": 84,
   "id": "6fcf8710",
   "metadata": {},
   "outputs": [
    {
     "name": "stdout",
     "output_type": "stream",
     "text": [
      "1\n",
      "0\n",
      "1\n"
     ]
    }
   ],
   "source": [
    "\"\"\" Substring Removal\n",
    "Given a string seq, that consist of only A and B, and in 1 move, delete either an 'AB' or 'BB' substring\n",
    "and concatenate the remaining seq and return the minimum possible length of string\n",
    "\n",
    "For example \"BABBA\" then following moves are optimal on 0 based indexing\n",
    "Delete substring \"AB\" starting from index 1 \"BABBA\" becomes \"BBA\"\n",
    "Delete substring \"BB\" starting from index 0 \"BBA\" becomes \"A\" return 1\n",
    "\n",
    "For example \"BABB\" then \n",
    "Delete \"AB starting from index 1 \"BABB\" becomes \"BB\"\n",
    "Delete \"BB\" starting from index 0 so \"BB\" becomes 0, return 0 \"\"\"\n",
    "\n",
    "def getMinLength(seq):\n",
    "    stack = []\n",
    "    \n",
    "    for char in seq:\n",
    "        if stack:\n",
    "            if stack[-1] == 'A' and char == 'B':\n",
    "                stack.pop()  # Remove \"AB\"\n",
    "            elif stack[-1] == 'B' and char == 'B':\n",
    "                stack.pop()  # Remove \"BB\"\n",
    "            else:\n",
    "                stack.append(char)\n",
    "        else:\n",
    "            stack.append(char)\n",
    "    \n",
    "    return len(stack)\n",
    "\n",
    "# Example usage\n",
    "print(getMinLength(\"BABBA\"))  # Output: 1\n",
    "print(getMinLength(\"BABB\"))   # Output: 0\n",
    "print(getMinLength(\"BABBABA\"))         "
   ]
  },
  {
   "cell_type": "code",
   "execution_count": 92,
   "id": "0181192b",
   "metadata": {},
   "outputs": [
    {
     "name": "stdout",
     "output_type": "stream",
     "text": [
      "Choose the prefix length: 1\n",
      "Choose the value to add to the prefix: -3\n",
      "Modified array: [-2, 4, 2, 1]\n",
      "Total cost: 3\n"
     ]
    }
   ],
   "source": [
    "\"\"\" Minimum Total Cost \n",
    "Given an array of integers, the goal is to make all the elements in the array have equal value by applying same no of operators\n",
    "The rules of the operation are :\n",
    "1) To apply an operation one needs to choose a prefix of the array and an integer x (x can be negative). \n",
    "2) In this operation, add x to each elements inside the prefix.\n",
    "3) The cost of this operation is |x| (Absolute value of x)\n",
    "\n",
    "For example [1,4,2,1], prefix of length =2 and x = -3 then array becomes [-2, 1, 2, 1] and cost of operation becomes \n",
    "|x| =|-3| = 3\"\"\"\n",
    "\n",
    "def minimum_cost(arr):\n",
    "    prefix_length = int(input(\"Choose the prefix length: \"))  # Input from the user for prefix length\n",
    "    x = int(input(\"Choose the value to add to the prefix: \"))  # Input from the user for value to add\n",
    "    total_cost = 0  # Initialize total cost\n",
    "    \n",
    "    # Ensure prefix length is within the bounds of the array\n",
    "    while prefix_length > len(arr):\n",
    "        print(\"Invalid prefix length. Please choose a smaller value.\")\n",
    "        prefix_length = int(input(\"Choose the prefix length: \"))  \n",
    "    \n",
    "    # Apply the chosen prefix and add x to each element\n",
    "    for i in range(prefix_length):\n",
    "        arr[i] += x\n",
    "    total_cost += abs(x) * prefix_length  # Update total cost\n",
    "    \n",
    "    return total_cost, arr\n",
    "\n",
    "# Test the function with an example array\n",
    "example_array = [1, 4, 2, 1]\n",
    "total_cost, modified_array = minimum_cost(example_array)\n",
    "print(\"Modified array:\", modified_array)\n",
    "print(\"Total cost:\", total_cost)"
   ]
  },
  {
   "cell_type": "code",
   "execution_count": 99,
   "id": "b5ad2cd0",
   "metadata": {},
   "outputs": [
    {
     "name": "stdout",
     "output_type": "stream",
     "text": [
      "Minimum number of teams: 2\n"
     ]
    }
   ],
   "source": [
    "\"\"\" There is a hackathon but organized by Hackerank which has 2 separate tracks called Healthcare and E-Comm. \n",
    "For track 1, the required team size is teamSize_1 and for track 2, the required team size is teamSize_2. \n",
    "The total number of participants is p.\n",
    "\n",
    "Find the minimum number of teams into which the participants can be divided such that each participant belongs to\n",
    "exactly one team (either track 1 or track 2) and each team has size equal to either teamSize_1 or teamSize_2. \n",
    "If no such division is possible then return -1\n",
    "\n",
    "Consider teamSize_1 = 3, teamSize_2 = 4 and number of participants is 7. \n",
    "\n",
    "Optimally there is 1 team of 3 and 1 team of 4. The minimum number of teams is 2\n",
    "\n",
    "The function countTeam has following parameters\n",
    "1) int teamSize_1: the number of participants in teams of track 1\n",
    "2) int teamSize_2: the number of participants in teams of track 2\n",
    "3) int p: The number of participants\"\"\"\n",
    "\n",
    "def countTeam(teamSize1, teamSize2, p):\n",
    "    max_teams_1 = p // teamSize1\n",
    "    max_teams_2 = p // teamSize2\n",
    "    min_teams = float('inf')\n",
    "    \n",
    "    for teams_1 in range(max_teams_1, -1, -1):\n",
    "        for teams_2 in range(max_teams_2, -1, -1):\n",
    "            if teams_1 * teamSize1 + teams_2 * teamSize2 == p:\n",
    "                min_teams = min(min_teams, teams_1 + teams_2)\n",
    "    \n",
    "    return min_teams if min_teams != float('inf') else -1\n",
    "\n",
    "# Test the function\n",
    "teamSize_1 = 3\n",
    "teamSize_2 = 4\n",
    "participants = 6\n",
    "result = countTeam(teamSize_1, teamSize_2, participants)\n",
    "print(\"Minimum number of teams:\", result)"
   ]
  },
  {
   "cell_type": "code",
   "execution_count": null,
   "id": "2558357a",
   "metadata": {},
   "outputs": [],
   "source": [
    "\"\"\" For a given integer, add it with the reverse of the value. Also, check if it is a palindrome. \n",
    "If it is not a palindrome, repeat the process until the sum becomes a palindrome. \n",
    "Print out the value of the final palindrome and the number of iterations too\"\"\"\n",
    "\n",
    "def IntegerReverse(num):\n",
    "    l=list(map(int, str(num)))\n",
    "    l.reverse()\n",
    "    int(l)\n",
    "    new = num + l\n",
    "    if num == l:\n",
    "        \"Palindrome\""
   ]
  }
 ],
 "metadata": {
  "kernelspec": {
   "display_name": "Python 3 (ipykernel)",
   "language": "python",
   "name": "python3"
  },
  "language_info": {
   "codemirror_mode": {
    "name": "ipython",
    "version": 3
   },
   "file_extension": ".py",
   "mimetype": "text/x-python",
   "name": "python",
   "nbconvert_exporter": "python",
   "pygments_lexer": "ipython3",
   "version": "3.9.7"
  }
 },
 "nbformat": 4,
 "nbformat_minor": 5
}
